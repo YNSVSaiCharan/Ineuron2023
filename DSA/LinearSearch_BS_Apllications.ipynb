{
 "cells": [
  {
   "cell_type": "code",
   "execution_count": 3,
   "id": "e69508d4",
   "metadata": {},
   "outputs": [
    {
     "name": "stdout",
     "output_type": "stream",
     "text": [
      "Searching element is present at index: -1\n"
     ]
    }
   ],
   "source": [
    "## Linear Search Algorithm\n",
    "## function definition\n",
    "## time complexity: O(n)\n",
    "## space complexity: O(1)\n",
    "\n",
    "def linearSearch(arr, x):\n",
    "    for i in range(len(arr)):\n",
    "        if arr[i] == x:\n",
    "            return i\n",
    "    return -1\n",
    "    \n",
    "## Driver code\n",
    "arr = [20, 45, 27, 47, 55, 67, 75, 88, 90]\n",
    "x = 65\n",
    "## function calling\n",
    "result = linearSearch(arr, x)\n",
    "print(\"Searching element is present at index:\",result)"
   ]
  },
  {
   "cell_type": "code",
   "execution_count": 5,
   "id": "2f4d934d",
   "metadata": {},
   "outputs": [
    {
     "name": "stdout",
     "output_type": "stream",
     "text": [
      "Searching element is present at the location: 6\n"
     ]
    }
   ],
   "source": [
    "## Binary Search Algorithm using recursion\n",
    "## function definition\n",
    "def binarySearch(arr, x, i, j):\n",
    "    while i <= j:\n",
    "        mid = i + (j-i)//2\n",
    "        if arr[mid] == x:\n",
    "            return mid\n",
    "        elif arr[mid] < x:\n",
    "            ## right side of the mid\n",
    "            ## seach space - mid+1 to j\n",
    "            ## recursion - calling the same function again inside the \n",
    "            ## method definition\n",
    "            return binarySearch(arr, x, mid+1, j)\n",
    "        else:\n",
    "            ## left side of the mid\n",
    "            ## search space - i to mid-1\n",
    "            return binarySearch(arr, x, i, mid-1)\n",
    "    ## searching element is not present in an array\n",
    "    return -1\n",
    "\n",
    "## Driver code\n",
    "arr = [20, 30, 40, 50, 60, 70, 80, 90]\n",
    "x = 80\n",
    "i = 0\n",
    "j = len(arr) - 1\n",
    "## function calling\n",
    "result = binarySearch(arr, x, i, j)\n",
    "print(\"Searching element is present at the location:\",result)"
   ]
  },
  {
   "cell_type": "code",
   "execution_count": 9,
   "id": "492b3beb",
   "metadata": {},
   "outputs": [
    {
     "name": "stdout",
     "output_type": "stream",
     "text": [
      "Searching element is present at the location: 0\n"
     ]
    }
   ],
   "source": [
    "## Binary Search Algorithm without using recursion(iterative)\n",
    "## function definition\n",
    "def binarySearch(arr, x, i, j):\n",
    "    while i <= j:\n",
    "        ## lower bound while division\n",
    "        mid = i + (j-i)//2\n",
    "        if arr[mid] == x:\n",
    "            return mid\n",
    "        elif arr[mid] < x:\n",
    "            ## right side of the mid\n",
    "            ## seach space - mid+1 to j\n",
    "            i = mid + 1\n",
    "            ## arr[mid] > x:\n",
    "        else:\n",
    "            ## left side of the mid\n",
    "            ## search space - i to mid-1\n",
    "            j = mid - 1\n",
    "    ## searching element is not present in an array\n",
    "    return -1\n",
    "\n",
    "## Driver code\n",
    "arr = [20, 30, 40, 50, 60, 70, 80, 90]\n",
    "x = 20\n",
    "i = 0\n",
    "j = len(arr) - 1\n",
    "## function calling\n",
    "result = binarySearch(arr, x, i, j)\n",
    "print(\"Searching element is present at the location:\",result)"
   ]
  },
  {
   "cell_type": "code",
   "execution_count": 1,
   "id": "1ab165ae",
   "metadata": {},
   "outputs": [],
   "source": [
    "arr=[20,40,60,80,90,120,240]"
   ]
  },
  {
   "cell_type": "code",
   "execution_count": null,
   "id": "1c1c4812",
   "metadata": {},
   "outputs": [],
   "source": [
    "#two pointer approach a+b=210"
   ]
  },
  {
   "cell_type": "code",
   "execution_count": 2,
   "id": "aa103af7",
   "metadata": {},
   "outputs": [],
   "source": [
    "def findElements(tot,arr):\n",
    "    l=0\n",
    "    r=len(arr)-1\n",
    "    while l<r:\n",
    "        if arr[l]+arr[r]==210:\n",
    "            return l,r\n",
    "        elif arr[l]+arr[r]<210:\n",
    "            l=l+1\n",
    "        else:\n",
    "            r=r-1"
   ]
  },
  {
   "cell_type": "code",
   "execution_count": 3,
   "id": "c02bfb23",
   "metadata": {},
   "outputs": [
    {
     "name": "stdout",
     "output_type": "stream",
     "text": [
      "4 5\n"
     ]
    }
   ],
   "source": [
    "a,b=findElements(210,arr)\n",
    "print(a,b)"
   ]
  },
  {
   "cell_type": "code",
   "execution_count": 4,
   "id": "61a6cf60",
   "metadata": {},
   "outputs": [
    {
     "name": "stdout",
     "output_type": "stream",
     "text": [
      "inf\n"
     ]
    }
   ],
   "source": [
    "print(float('inf'))"
   ]
  },
  {
   "cell_type": "code",
   "execution_count": null,
   "id": "e4002968",
   "metadata": {},
   "outputs": [],
   "source": [
    "#find maximum profit from array o(n)"
   ]
  },
  {
   "cell_type": "code",
   "execution_count": 10,
   "id": "6f95bc50",
   "metadata": {},
   "outputs": [],
   "source": [
    "def findMaxProfit(price):\n",
    "    minPrice=float('inf')\n",
    "    maxProfit=0\n",
    "    for i in range(len(price)):\n",
    "        if price[i]<minPrice:\n",
    "            minPrice=price[i]\n",
    "        elif price[i]-minPrice>maxProfit:\n",
    "            maxProfit=price[i]-minPrice\n",
    "    return maxProfit\n",
    "                   "
   ]
  },
  {
   "cell_type": "code",
   "execution_count": 11,
   "id": "0570b857",
   "metadata": {},
   "outputs": [],
   "source": [
    "price=[7,1,5,3,6,4]"
   ]
  },
  {
   "cell_type": "code",
   "execution_count": 12,
   "id": "6a327a47",
   "metadata": {},
   "outputs": [],
   "source": [
    "maprofit_value=findMaxProfit(price)"
   ]
  },
  {
   "cell_type": "code",
   "execution_count": 13,
   "id": "6b9c1428",
   "metadata": {},
   "outputs": [
    {
     "name": "stdout",
     "output_type": "stream",
     "text": [
      "5\n"
     ]
    }
   ],
   "source": [
    "print(maprofit_value)"
   ]
  },
  {
   "cell_type": "code",
   "execution_count": 14,
   "id": "f475b0cb",
   "metadata": {},
   "outputs": [],
   "source": [
    "#2d array find element in 2d array\n",
    "#time complexity log(mn)"
   ]
  },
  {
   "cell_type": "code",
   "execution_count": 32,
   "id": "8437baee",
   "metadata": {},
   "outputs": [],
   "source": [
    "def checkElement(arr,target):\n",
    "    m=len(arr)\n",
    "    n=len(arr[0])\n",
    "    l=0\n",
    "    r=m*n-1\n",
    "\n",
    "    if m==0:\n",
    "        return False\n",
    "    while l<=r:\n",
    "        mid=l+(r-l)//2\n",
    "        row=mid//n\n",
    "        col=mid%n\n",
    "        if target<arr[row][col]:\n",
    "            r=mid-1\n",
    "        elif target>arr[row][col]:\n",
    "            l=mid+1\n",
    "        else :\n",
    "            return True\n",
    "    return False\n",
    "           "
   ]
  },
  {
   "cell_type": "code",
   "execution_count": 33,
   "id": "25f480fa",
   "metadata": {},
   "outputs": [],
   "source": [
    "arr=[[1,3,5,7],[10,11,16,20],[23,30,34,60]]"
   ]
  },
  {
   "cell_type": "code",
   "execution_count": 36,
   "id": "35f71cad",
   "metadata": {},
   "outputs": [
    {
     "name": "stdout",
     "output_type": "stream",
     "text": [
      "-1\n"
     ]
    }
   ],
   "source": [
    "\n",
    "check=checkElement(arr,35)\n",
    "print(check)"
   ]
  },
  {
   "cell_type": "code",
   "execution_count": 1,
   "id": "a0924fcc",
   "metadata": {},
   "outputs": [],
   "source": [
    "#ternery search"
   ]
  },
  {
   "cell_type": "code",
   "execution_count": 10,
   "id": "5f5f6e4a",
   "metadata": {},
   "outputs": [],
   "source": [
    "def ternerysearch(arr,i,j,key):\n",
    "    while i<=j:\n",
    "        mid1=i+(j-i)//3\n",
    "        mid2=j-(j-i)//3\n",
    "        if arr[mid1]==key:\n",
    "            return mid1\n",
    "        elif arr[mid2]==key:\n",
    "            return mid2\n",
    "        elif key<arr[mid1]:\n",
    "            j=mid1-1\n",
    "        elif key>arr[mid2]:\n",
    "            i=mid2+1\n",
    "        else:\n",
    "            i=mid1+1\n",
    "            j=mid2-1\n",
    "    return -1"
   ]
  },
  {
   "cell_type": "code",
   "execution_count": 12,
   "id": "ededd48e",
   "metadata": {},
   "outputs": [
    {
     "name": "stdout",
     "output_type": "stream",
     "text": [
      "7\n"
     ]
    }
   ],
   "source": [
    "arr=[20,34,56,65,76,87,89,90]\n",
    "i=0\n",
    "j=len(arr)-1\n",
    "print(ternerysearch(arr,i,j,90))"
   ]
  },
  {
   "cell_type": "code",
   "execution_count": null,
   "id": "e8b64943",
   "metadata": {},
   "outputs": [],
   "source": []
  },
  {
   "cell_type": "markdown",
   "id": "c4182448",
   "metadata": {},
   "source": [
    "# Problem Statement:-\n",
    "1. Compute and return the square root of x, where x is guaranteed to be a non-negative\n",
    "integer. And since the return type is an integer, the decimal digits are truncated and only\n",
    "the integer part of the result is returned. Also, talk about the time complexity of your\n",
    "code.\n",
    "Test Cases:\n",
    "Input: 4\n",
    "Output: 2\n",
    "Input: 8\n",
    "Output: 2\n",
    "Explanation: The square root of 8 is 2.8284…., the decimal part is truncated and 2 is\n",
    "returned.\n",
    "Hint: Try to use a modified binary search approach for an optimized solution"
   ]
  },
  {
   "cell_type": "code",
   "execution_count": 2,
   "id": "9add2089",
   "metadata": {},
   "outputs": [],
   "source": [
    "def sqrt(x):\n",
    "    for i in range(x):\n",
    "        if i*i==x:\n",
    "            return i\n",
    "        elif i*i<x:\n",
    "            root=i\n",
    "        else:\n",
    "            return root"
   ]
  },
  {
   "cell_type": "code",
   "execution_count": null,
   "id": "96958c1d",
   "metadata": {},
   "outputs": [],
   "source": []
  },
  {
   "cell_type": "code",
   "execution_count": 24,
   "id": "58048c6e",
   "metadata": {},
   "outputs": [
    {
     "name": "stdout",
     "output_type": "stream",
     "text": [
      "Enter the number10\n",
      "3\n"
     ]
    }
   ],
   "source": [
    "x=input(\"Enter the number\")\n",
    "print(sqrt(int(x)))"
   ]
  },
  {
   "cell_type": "code",
   "execution_count": 23,
   "id": "f035e7bd",
   "metadata": {},
   "outputs": [],
   "source": [
    "def sqrt(x):\n",
    "    start=1\n",
    "    end=x\n",
    "    while start<=end:\n",
    "        middle=start+(end-start)//2\n",
    "        if middle==x/middle:\n",
    "            return middle\n",
    "        elif middle<x/middle:\n",
    "            start=middle+1\n",
    "            print(\"start\",start)\n",
    "        elif middle*middle>x:\n",
    "            \n",
    "            end=middle-1\n",
    "    return end\n",
    "            \n",
    "    \n"
   ]
  },
  {
   "cell_type": "markdown",
   "id": "58ffc49a",
   "metadata": {},
   "source": [
    "# Problem2\n",
    "2. You are a product manager and currently leading a team to develop a new product.\n",
    "Unfortunately, the latest version of your product fails the quality check. Since each\n",
    "version is developed based on the previous version, all the versions after a bad version\n",
    "are also bad. Suppose you have n version and you want to find out the first bad one,\n",
    "which causes all the following ones to be bad. Also, talk about the time complexity of\n",
    "your code.\n",
    "Test Cases:\n",
    "Input: [0,0,0,1,1,1,1,1,1]\n",
    "Output: 3\n",
    "Explanation: 0 indicates a good version and 1 indicates a bad version. So, the index of\n",
    "the first 1 is at 3. Thus, the output is 3"
   ]
  },
  {
   "cell_type": "code",
   "execution_count": 29,
   "id": "2f6cdcaa",
   "metadata": {},
   "outputs": [],
   "source": [
    "def qualitycheck(x):\n",
    "    if x==1:\n",
    "        return \"fail\"\n",
    "    elif x==0:\n",
    "        return \"pass\"\n",
    "def badversion(arr):\n",
    "    start=0\n",
    "    end=len(arr)-1\n",
    "    while start<=end:\n",
    "        mid=start+(end-start)//2\n",
    "        if qualitycheck(arr[mid])==\"fail\":\n",
    "            end=mid-1\n",
    "        else:\n",
    "            start=mid+1\n",
    "    return start\n",
    "    "
   ]
  },
  {
   "cell_type": "code",
   "execution_count": 31,
   "id": "bb8696e4",
   "metadata": {},
   "outputs": [
    {
     "name": "stdout",
     "output_type": "stream",
     "text": [
      "4\n"
     ]
    }
   ],
   "source": [
    "arr=[0,0,0,0,1,1,1,1,1]\n",
    "print(badversion(arr))"
   ]
  },
  {
   "cell_type": "markdown",
   "id": "126ba4de",
   "metadata": {},
   "source": [
    "# Problem3\n",
    "3. Given a positive integer num, write a program that returns True if num is a perfect\n",
    "square else return False. Do not use built-in functions like sqrt. Also, talk about the time\n",
    "complexity of your code.\n",
    "Test Cases:\n",
    "Input: 16\n",
    "Output: True\n",
    "Input: 14\n",
    "Output: False"
   ]
  },
  {
   "cell_type": "code",
   "execution_count": 33,
   "id": "e2c59840",
   "metadata": {},
   "outputs": [],
   "source": [
    "def psqrt(x):\n",
    "    start=1\n",
    "    end=x\n",
    "    while start<=end:\n",
    "        middle=start+(end-start)//2\n",
    "        if middle==x/middle:\n",
    "            return True\n",
    "        elif middle<x/middle:\n",
    "            start=middle+1\n",
    "        elif middle*middle>x:\n",
    "            \n",
    "            end=middle-1\n",
    "    return False\n",
    "            "
   ]
  },
  {
   "cell_type": "code",
   "execution_count": 36,
   "id": "59a5b0f4",
   "metadata": {},
   "outputs": [
    {
     "name": "stdout",
     "output_type": "stream",
     "text": [
      "Enter the number5\n",
      "start 2\n",
      "start 3\n",
      "False\n"
     ]
    }
   ],
   "source": [
    "x=input(\"Enter the number\")\n",
    "print(psqrt(int(x)))"
   ]
  },
  {
   "cell_type": "code",
   "execution_count": null,
   "id": "e2c85601",
   "metadata": {},
   "outputs": [],
   "source": []
  }
 ],
 "metadata": {
  "kernelspec": {
   "display_name": "Python 3",
   "language": "python",
   "name": "python3"
  },
  "language_info": {
   "codemirror_mode": {
    "name": "ipython",
    "version": 3
   },
   "file_extension": ".py",
   "mimetype": "text/x-python",
   "name": "python",
   "nbconvert_exporter": "python",
   "pygments_lexer": "ipython3",
   "version": "3.8.8"
  }
 },
 "nbformat": 4,
 "nbformat_minor": 5
}
